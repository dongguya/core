{
 "cells": [
  {
   "cell_type": "code",
   "execution_count": 1,
   "metadata": {},
   "outputs": [
    {
     "name": "stdout",
     "output_type": "stream",
     "text": [
      "Collecting pyserial\n",
      "  Downloading pyserial-3.5-py2.py3-none-any.whl.metadata (1.6 kB)\n",
      "Downloading pyserial-3.5-py2.py3-none-any.whl (90 kB)\n",
      "Installing collected packages: pyserial\n",
      "Successfully installed pyserial-3.5\n",
      "Note: you may need to restart the kernel to use updated packages.\n"
     ]
    }
   ],
   "source": [
    "pip install pyserial"
   ]
  },
  {
   "cell_type": "code",
   "execution_count": 14,
   "metadata": {},
   "outputs": [
    {
     "name": "stdout",
     "output_type": "stream",
     "text": [
      "🔵 Sent '1' to MCU.\n"
     ]
    }
   ],
   "source": [
    "import serial\n",
    "import time\n",
    "\n",
    "# (1) 연결된 포트 확인\n",
    "# macOS: /dev/cu.usbmodemXXXX\n",
    "# Windows: 'COM3', 'COM4' 이런 형식\n",
    "port = 'COM5'  # 너의 환경에 맞게 수정 필요 (아래 참고)\n",
    "baudrate = 9600        # MCU에서 설정한 속도와 일치해야 함\n",
    "\n",
    "# (2) 시리얼 포트 열기\n",
    "ser = serial.Serial(port, baudrate)\n",
    "time.sleep(2)  # MCU 리셋 후 대기 (중요)\n",
    "\n",
    "# (3) 신호 보내기\n",
    "ser.write(b'1')  # '1' 문자 1바이트 전송\n",
    "\n",
    "print(\"🔵 Sent '1' to MCU.\")\n",
    "\n",
    "# (4) 포트 닫기\n",
    "ser.close()"
   ]
  }
 ],
 "metadata": {
  "kernelspec": {
   "display_name": "Python 3",
   "language": "python",
   "name": "python3"
  },
  "language_info": {
   "codemirror_mode": {
    "name": "ipython",
    "version": 3
   },
   "file_extension": ".py",
   "mimetype": "text/x-python",
   "name": "python",
   "nbconvert_exporter": "python",
   "pygments_lexer": "ipython3",
   "version": "3.9.11"
  }
 },
 "nbformat": 4,
 "nbformat_minor": 2
}
