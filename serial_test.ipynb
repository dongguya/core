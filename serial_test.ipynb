{
 "cells": [
  {
   "cell_type": "code",
   "execution_count": null,
   "metadata": {},
   "outputs": [
    {
     "name": "stdout",
     "output_type": "stream",
     "text": [
      "Sent: ON\n",
      "Sent: OFF\n",
      "Sent: BLINK\n"
     ]
    }
   ],
   "source": [
    "import serial\n",
    "import serial.tools.list_ports\n",
    "import time\n",
    "\n",
    "def find_stm32_port():\n",
    "    ports = serial.tools.list_ports.comports()\n",
    "    for port in ports:\n",
    "        if (\"STM\" in port.description or \n",
    "            \"STLink\" in port.description or\n",
    "            \"ttyACM\" in port.device or\n",
    "            \"ttyUSB\" in port.device):\n",
    "            return port.device\n",
    "    raise Exception(\"STM32 포트를 찾을 수 없습니다.\")\n",
    "\n",
    "def send_command(cmd):\n",
    "    port = find_stm32_port()\n",
    "    ser = serial.Serial(port, 9600)\n",
    "    time.sleep(2)  # 보드 리셋 대기\n",
    "    ser.write((cmd + '\\n').encode('utf-8'))\n",
    "    print(f\"Sent: {cmd}\")\n",
    "    ser.close()\n",
    "\n",
    "# 사용 예시\n",
    "send_command(\"ON\")\n",
    "time.sleep(2)"
   ]
  },
  {
   "cell_type": "code",
   "execution_count": 2,
   "metadata": {},
   "outputs": [
    {
     "name": "stdout",
     "output_type": "stream",
     "text": [
      "Collecting pyserial\n",
      "  Downloading pyserial-3.5-py2.py3-none-any.whl.metadata (1.6 kB)\n",
      "Downloading pyserial-3.5-py2.py3-none-any.whl (90 kB)\n",
      "Installing collected packages: pyserial\n",
      "Successfully installed pyserial-3.5\n",
      "Note: you may need to restart the kernel to use updated packages.\n"
     ]
    }
   ],
   "source": [
    "pip install pyserial\n"
   ]
  }
 ],
 "metadata": {
  "kernelspec": {
   "display_name": "base",
   "language": "python",
   "name": "python3"
  },
  "language_info": {
   "codemirror_mode": {
    "name": "ipython",
    "version": 3
   },
   "file_extension": ".py",
   "mimetype": "text/x-python",
   "name": "python",
   "nbconvert_exporter": "python",
   "pygments_lexer": "ipython3",
   "version": "3.12.7"
  }
 },
 "nbformat": 4,
 "nbformat_minor": 2
}
