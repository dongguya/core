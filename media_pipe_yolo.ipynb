{
 "cells": [
  {
   "cell_type": "markdown",
   "metadata": {},
   "source": [
    "mediapipe 설치"
   ]
  },
  {
   "cell_type": "code",
   "execution_count": null,
   "metadata": {},
   "outputs": [],
   "source": [
    "pip install pytube opencv-python mediapipe numpy\n"
   ]
  },
  {
   "cell_type": "markdown",
   "metadata": {},
   "source": [
    "### 동영상에서 mediapipe 이용해서 keypoint 검출하기"
   ]
  },
  {
   "cell_type": "markdown",
   "metadata": {},
   "source": [
    "📌 1. YouTube Shorts 다운로드"
   ]
  },
  {
   "cell_type": "code",
   "execution_count": 8,
   "metadata": {},
   "outputs": [
    {
     "name": "stdout",
     "output_type": "stream",
     "text": [
      "다운로드 오류 발생: HTTP Error 403: Forbidden\n"
     ]
    }
   ],
   "source": [
    "from pytube import YouTube\n",
    "\n",
    "# 저장할 경로 설정\n",
    "save_path = r\"E:\\Desktop\\AI_learning\\Project_2_Object_detection\"\n",
    "video_filename = \"dog_video.mp4\"\n",
    "video_full_path = f\"{save_path}\\\\{video_filename}\"\n",
    "\n",
    "# YouTube Shorts URL\n",
    "video_url = \"https://www.youtube.com/watch?v=ogzPdZxI4Jo\"\n",
    "\n",
    "try:\n",
    "    # YouTube 영상 다운로드\n",
    "    yt = YouTube(video_url)\n",
    "    stream = yt.streams.get_highest_resolution()\n",
    "    stream.download(output_path=save_path, filename=video_filename)\n",
    "    print(f\"동영상 다운로드 완료: {video_full_path}\")\n",
    "\n",
    "except Exception as e:\n",
    "    print(f\"다운로드 오류 발생: {e}\")\n"
   ]
  },
  {
   "cell_type": "markdown",
   "metadata": {},
   "source": [
    "✅ 2. 동영상에서 강아지 Keypoint 검출 코드 (MediaPipe)"
   ]
  },
  {
   "cell_type": "code",
   "execution_count": 1,
   "metadata": {},
   "outputs": [],
   "source": [
    "import cv2\n",
    "import mediapipe as mp\n",
    "\n",
    "# 저장된 비디오 파일 경로\n",
    "video_full_path = r\"E:\\Desktop\\AI_learning\\Project_2_Object_detection\\dog_video.mp4\"\n",
    "\n",
    "# MediaPipe Pose 초기화\n",
    "mp_pose = mp.solutions.pose\n",
    "pose = mp_pose.Pose(static_image_mode=False, model_complexity=1, smooth_landmarks=True)\n",
    "\n",
    "# 비디오 파일 불러오기\n",
    "cap = cv2.VideoCapture(video_full_path)\n",
    "\n",
    "while cap.isOpened():\n",
    "    ret, frame = cap.read()\n",
    "    if not ret:\n",
    "        break\n",
    "\n",
    "    # OpenCV BGR → RGB 변환 (MediaPipe는 RGB 입력 필요)\n",
    "    frame_rgb = cv2.cvtColor(frame, cv2.COLOR_BGR2RGB)\n",
    "\n",
    "    # MediaPipe 실행\n",
    "    results = pose.process(frame_rgb)\n",
    "\n",
    "    if results.pose_landmarks:\n",
    "        for landmark in results.pose_landmarks.landmark:\n",
    "            h, w, _ = frame.shape\n",
    "            x, y = int(landmark.x * w), int(landmark.y * h)\n",
    "            cv2.circle(frame, (x, y), 5, (0, 255, 0), -1)  # Keypoint 시각화\n",
    "\n",
    "    cv2.imshow(\"Dog Pose Detection\", frame)\n",
    "    \n",
    "    if cv2.waitKey(1) & 0xFF == ord(\"q\"):\n",
    "        break\n",
    "\n",
    "cap.release()\n",
    "cv2.destroyAllWindows()\n"
   ]
  },
  {
   "cell_type": "markdown",
   "metadata": {},
   "source": [
    "https://www.youtube.com/shorts/ogzPdZxI4Jo?feature=share"
   ]
  },
  {
   "cell_type": "markdown",
   "metadata": {},
   "source": [
    "3. 이미지에서 - 강아지 Keypoint 검출 코드 mediapipe"
   ]
  },
  {
   "cell_type": "code",
   "execution_count": 2,
   "metadata": {},
   "outputs": [],
   "source": [
    "import cv2\n",
    "import mediapipe as mp\n",
    "import os\n",
    "\n",
    "# MediaPipe Pose 초기화\n",
    "mp_pose = mp.solutions.pose\n",
    "pose = mp_pose.Pose(static_image_mode=True, model_complexity=1, smooth_landmarks=True)\n",
    "\n",
    "# 이미지 폴더 경로 설정\n",
    "image_folder = r\"E:\\Desktop\\AI_learning\\Project_2_Object_detection\\dog_images\"\n",
    "image_files = sorted([f for f in os.listdir(image_folder) if f.endswith(('.jpg', '.png'))])\n",
    "\n",
    "# 이미지 11장 처리\n",
    "for image_file in image_files[:11]:\n",
    "    image_path = os.path.join(image_folder, image_file)\n",
    "    \n",
    "    # 이미지 읽기\n",
    "    image = cv2.imread(image_path)\n",
    "    if image is None:\n",
    "        print(f\"이미지를 불러올 수 없음: {image_path}\")\n",
    "        continue\n",
    "\n",
    "    # OpenCV BGR → RGB 변환\n",
    "    image_rgb = cv2.cvtColor(image, cv2.COLOR_BGR2RGB)\n",
    "\n",
    "    # MediaPipe 실행\n",
    "    results = pose.process(image_rgb)\n",
    "\n",
    "    if results.pose_landmarks:\n",
    "        h, w, _ = image.shape\n",
    "        for landmark in results.pose_landmarks.landmark:\n",
    "            x, y = int(landmark.x * w), int(landmark.y * h)\n",
    "            cv2.circle(image, (x, y), 5, (0, 255, 0), -1)  # Keypoint 시각화\n",
    "\n",
    "    # 결과 이미지 출력\n",
    "    cv2.imshow(f\"Dog Keypoints - {image_file}\", image)\n",
    "    cv2.waitKey(0)  # 키 입력 대기 후 다음 이미지 표시\n",
    "\n",
    "cv2.destroyAllWindows()\n"
   ]
  },
  {
   "cell_type": "markdown",
   "metadata": {},
   "source": [
    "### 📌 Yolo - pose 모델로 - 강아지 객체 탐지 후 keypoint 찾는 코드\n"
   ]
  },
  {
   "cell_type": "code",
   "execution_count": null,
   "metadata": {},
   "outputs": [],
   "source": [
    "pip install ultralytics"
   ]
  },
  {
   "cell_type": "markdown",
   "metadata": {},
   "source": [
    "📌 YOLO-Pose 실행해보기"
   ]
  },
  {
   "cell_type": "code",
   "execution_count": 1,
   "metadata": {},
   "outputs": [
    {
     "name": "stdout",
     "output_type": "stream",
     "text": [
      "\n",
      "image 1/1 E:\\Desktop\\AI_learning\\Project_2_Object_detection\\dog_images\\download.jpg: 384x640 4 persons, 558.4ms\n",
      "Speed: 1.0ms preprocess, 558.4ms inference, 1.5ms postprocess per image at shape (1, 3, 384, 640)\n"
     ]
    }
   ],
   "source": [
    "from ultralytics import YOLO\n",
    "import cv2\n",
    "\n",
    "# YOLO-Pose 모델 로드 (Pose 전용 모델 사용)\n",
    "model = YOLO(\"yolov8x-pose.pt\")  # YOLOv8-Pose 모델 사용\n",
    "\n",
    "# 테스트할 이미지 경로\n",
    "image_path = r\"E:\\Desktop\\AI_learning\\Project_2_Object_detection\\dog_images\\download.jpg\"\n",
    "\n",
    "# YOLO-Pose 실행 (Bounding Box + Keypoint 검출)\n",
    "results = model(image_path)\n",
    "\n",
    "# 결과 표시\n",
    "for result in results:\n",
    "    result.show()\n"
   ]
  },
  {
   "cell_type": "markdown",
   "metadata": {},
   "source": [
    "📌 YOLO-Pose 적용하기 - 이미지 폴더 경로만 바꿔서 사용 , 11장 사용"
   ]
  },
  {
   "cell_type": "code",
   "execution_count": null,
   "metadata": {},
   "outputs": [],
   "source": [
    "# 욜로 모델 종류\n",
    "\n",
    "# YOLO11n-pose.pt: 가장 작은 모델로, 빠른 속도와 낮은 연산량을 특징으로 합니다.​\n",
    "# YOLO11s-pose.pt: 소형 모델로, 속도와 정확도의 균형을 제공합니다.​\n",
    "# YOLO11m-pose.pt: 중간 크기의 모델로, 향상된 정확도를 제공합니다.​\n",
    "# YOLO11l-pose.pt: 대형 모델로, 높은 정확도를 제공합니다.​\n",
    "# YOLO11x-pose.pt: 가장 큰 모델로, 최고의 정확도를 제공합니다.\n",
    "\n",
    "# 자매품\n",
    "# YOLO8n-pose.pt 시리즈 "
   ]
  },
  {
   "cell_type": "markdown",
   "metadata": {},
   "source": []
  },
  {
   "cell_type": "code",
   "execution_count": null,
   "metadata": {},
   "outputs": [
    {
     "name": "stdout",
     "output_type": "stream",
     "text": [
      "\n",
      "image 1/1 E:\\Desktop\\AI_learning\\Project_2_Object_detection\\dog_images\\download.jpg: 384x640 4 persons, 93.9ms\n",
      "Speed: 2.5ms preprocess, 93.9ms inference, 4.0ms postprocess per image at shape (1, 3, 384, 640)\n",
      "\n",
      "image 1/1 E:\\Desktop\\AI_learning\\Project_2_Object_detection\\dog_images\\n02089973_1957.jpg: 640x608 (no detections), 79.0ms\n",
      "Speed: 2.0ms preprocess, 79.0ms inference, 1.0ms postprocess per image at shape (1, 3, 640, 608)\n",
      "\n",
      "image 1/1 E:\\Desktop\\AI_learning\\Project_2_Object_detection\\dog_images\\n02089973_2331.jpg: 576x640 (no detections), 74.1ms\n",
      "Speed: 2.0ms preprocess, 74.1ms inference, 0.0ms postprocess per image at shape (1, 3, 576, 640)\n",
      "\n",
      "image 1/1 E:\\Desktop\\AI_learning\\Project_2_Object_detection\\dog_images\\n02089973_846.jpg: 576x640 1 person, 59.2ms\n",
      "Speed: 2.1ms preprocess, 59.2ms inference, 1.0ms postprocess per image at shape (1, 3, 576, 640)\n",
      "\n",
      "image 1/1 E:\\Desktop\\AI_learning\\Project_2_Object_detection\\dog_images\\n02090379_2420.jpg: 480x640 (no detections), 63.7ms\n",
      "Speed: 3.1ms preprocess, 63.7ms inference, 0.0ms postprocess per image at shape (1, 3, 480, 640)\n",
      "\n",
      "image 1/1 E:\\Desktop\\AI_learning\\Project_2_Object_detection\\dog_images\\n02090379_2733.jpg: 480x640 (no detections), 49.6ms\n",
      "Speed: 3.0ms preprocess, 49.6ms inference, 0.0ms postprocess per image at shape (1, 3, 480, 640)\n",
      "\n",
      "image 1/1 E:\\Desktop\\AI_learning\\Project_2_Object_detection\\dog_images\\n02090379_3116.jpg: 480x640 2 persons, 66.6ms\n",
      "Speed: 2.6ms preprocess, 66.6ms inference, 1.3ms postprocess per image at shape (1, 3, 480, 640)\n",
      "\n",
      "image 1/1 E:\\Desktop\\AI_learning\\Project_2_Object_detection\\dog_images\\n02090379_4643.jpg: 640x480 (no detections), 72.3ms\n",
      "Speed: 2.5ms preprocess, 72.3ms inference, 1.0ms postprocess per image at shape (1, 3, 640, 480)\n",
      "\n",
      "image 1/1 E:\\Desktop\\AI_learning\\Project_2_Object_detection\\dog_images\\n02093991_1038.jpg: 640x640 (no detections), 84.2ms\n",
      "Speed: 2.0ms preprocess, 84.2ms inference, 0.0ms postprocess per image at shape (1, 3, 640, 640)\n",
      "\n",
      "image 1/1 E:\\Desktop\\AI_learning\\Project_2_Object_detection\\dog_images\\n02094433_1210.jpg: 480x640 (no detections), 53.4ms\n",
      "Speed: 2.0ms preprocess, 53.4ms inference, 0.0ms postprocess per image at shape (1, 3, 480, 640)\n",
      "\n",
      "image 1/1 E:\\Desktop\\AI_learning\\Project_2_Object_detection\\dog_images\\n02094433_2474.jpg: 544x640 (no detections), 76.5ms\n",
      "Speed: 3.0ms preprocess, 76.5ms inference, 1.0ms postprocess per image at shape (1, 3, 544, 640)\n"
     ]
    }
   ],
   "source": [
    "from ultralytics import YOLO\n",
    "import cv2\n",
    "import numpy as np\n",
    "import os\n",
    "\n",
    "# YOLO-Pose 모델 로드\n",
    "model = YOLO(\"yolo11n-pose.pt\")  # YOLOv8-Pose 모델 사용\n",
    "\n",
    "# 이미지 폴더 경로\n",
    "image_folder = r\"E:\\Desktop\\AI_learning\\Project_2_Object_detection\\dog_images\" # \n",
    "image_files = sorted([f for f in os.listdir(image_folder) if f.endswith(('.jpg', '.png'))])[:11]  # 11장 사용\n",
    "\n",
    "# YOLO-Pose 실행 및 결과 시각화\n",
    "for image_file in image_files:\n",
    "    image_path = os.path.join(image_folder, image_file)\n",
    "    image = cv2.imread(image_path)\n",
    "\n",
    "    if image is None:\n",
    "        print(f\"이미지를 불러올 수 없음: {image_path}\")\n",
    "        continue\n",
    "\n",
    "    # YOLO-Pose 실행\n",
    "    results = model(image_path)\n",
    "\n",
    "    for result in results:\n",
    "        for box, keypoints in zip(result.boxes.xyxy, result.keypoints.xy):\n",
    "            x1, y1, x2, y2 = map(int, box)  # Bounding Box 좌표\n",
    "\n",
    "            # Bounding Box 그리기\n",
    "            cv2.rectangle(image, (x1, y1), (x2, y2), (255, 0, 0), 2)\n",
    "            cv2.putText(image, \"Dog\", (x1, y1 - 10), cv2.FONT_HERSHEY_SIMPLEX, 0.5, (255, 0, 0), 2)\n",
    "\n",
    "            # Keypoint 그리기\n",
    "            for x, y in keypoints:\n",
    "                if x > 0 and y > 0:  # 유효한 좌표만 그림\n",
    "                    cv2.circle(image, (int(x), int(y)), 5, (0, 255, 0), -1)\n",
    "\n",
    "    # 결과 이미지 출력\n",
    "    cv2.imshow(f\"YOLO-Pose Keypoints - {image_file}\", image)\n",
    "    cv2.waitKey(0)  # 키 입력 후 다음 이미지 표시\n",
    "\n",
    "cv2.destroyAllWindows()\n"
   ]
  }
 ],
 "metadata": {
  "kernelspec": {
   "display_name": "Python 3",
   "language": "python",
   "name": "python3"
  },
  "language_info": {
   "codemirror_mode": {
    "name": "ipython",
    "version": 3
   },
   "file_extension": ".py",
   "mimetype": "text/x-python",
   "name": "python",
   "nbconvert_exporter": "python",
   "pygments_lexer": "ipython3",
   "version": "3.9.11"
  }
 },
 "nbformat": 4,
 "nbformat_minor": 2
}
